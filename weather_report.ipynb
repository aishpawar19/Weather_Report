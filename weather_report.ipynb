{
 "cells": [
  {
   "cell_type": "code",
   "execution_count": 1,
   "id": "03187622-11ff-438d-8fa8-d88a59e22d2a",
   "metadata": {},
   "outputs": [],
   "source": [
    "import pandas as pd\n",
    "import requests\n",
    "import numpy as np\n",
    "import boto3\n",
    "from io import StringIO\n",
    "import os\n",
    "# from io import BytesIO\n",
    "# from zipfile import ZipFile"
   ]
  },
  {
   "cell_type": "code",
   "execution_count": 2,
   "id": "ef984283-3cb0-4f45-bcc7-c8eac66a7402",
   "metadata": {},
   "outputs": [],
   "source": [
    "api_key = 'Replace with your API key'\n",
    "base_url = 'http://api.openweathermap.org/data/2.5/weather'"
   ]
  },
  {
   "cell_type": "code",
   "execution_count": 3,
   "id": "c8fef99d-c91f-44ca-99aa-843048bddd2f",
   "metadata": {},
   "outputs": [],
   "source": [
    "df = pd.read_csv('worldcities.csv')"
   ]
  },
  {
   "cell_type": "code",
   "execution_count": 4,
   "id": "92fde71b-b07f-450b-b89c-d419a0ce9363",
   "metadata": {},
   "outputs": [],
   "source": [
    "country_counts = df['country'].value_counts() >= 100\n",
    "c = country_counts[country_counts == True].index"
   ]
  },
  {
   "cell_type": "code",
   "execution_count": 5,
   "id": "8c003470-7909-48d1-833a-3f853e8df513",
   "metadata": {},
   "outputs": [],
   "source": [
    "df = df[df['country'].isin(c)]"
   ]
  },
  {
   "cell_type": "code",
   "execution_count": 6,
   "id": "e94edf6e-2a6c-4b60-b2ba-7a8369e1854c",
   "metadata": {},
   "outputs": [],
   "source": [
    "df = df.groupby('country').head(6)"
   ]
  },
  {
   "cell_type": "code",
   "execution_count": 7,
   "id": "d5d3ecc5-1496-4347-b280-8bdf35aab1de",
   "metadata": {},
   "outputs": [],
   "source": [
    "def fetch_weather(city, lat, lng):\n",
    "    params = {\n",
    "        'lat': lat,\n",
    "        'lon': lng,\n",
    "        'appid': api_key,\n",
    "        'units': 'metric'\n",
    "    }\n",
    "    response = requests.get(base_url, params=params)\n",
    "    if response.status_code == 200:\n",
    "        data = response.json()\n",
    "        if 'main' in data and 'weather' in data or 'sys' in data:\n",
    "            return {\n",
    "                'city': city,\n",
    "                'temperature': data['main']['temp'],\n",
    "                'weather': data['weather'][0]['description'],\n",
    "                'lat' : data['coord']['lat'],\n",
    "                'lng' : data['coord']['lon'],\n",
    "                'temp_min' : data['main']['temp_min'],\n",
    "                'temp_max' : data['main']['temp_max'],\n",
    "                'sea_level' : data['main']['sea_level'],\n",
    "                'humidity' : data['main']['humidity'],\n",
    "                'current_time' : data['dt'],\n",
    "                'sunrise' : data['sys']['sunrise'],\n",
    "                'sunset' : data['sys']['sunset'],\n",
    "                'timezone' : data['timezone']\n",
    "            }\n",
    "        else:\n",
    "            print(f\"Missing 'main' or 'weather' in response for city: {city}\")\n",
    "            return {'city': city, 'temperature': None, 'weather': None}\n",
    "    else:\n",
    "        print(f\"Failed to fetch weather data for city: {city}, status code: {response.status_code}\")\n",
    "        return {'city': city, 'temperature': None, 'weather': None}"
   ]
  },
  {
   "cell_type": "code",
   "execution_count": 12,
   "id": "689eb81c-a15a-4dd4-ab16-e5a9fe72a2d9",
   "metadata": {},
   "outputs": [],
   "source": [
    "# Fetch weather data for each city\n",
    "weather_data = []\n",
    "for index, row in df.iterrows():\n",
    "    weather = fetch_weather(row['city'], row['lat'], row['lng'])\n",
    "    weather_data.append(weather)\n",
    "\n",
    "weather_df = pd.DataFrame(weather_data)"
   ]
  },
  {
   "cell_type": "code",
   "execution_count": 14,
   "id": "bc81d2c2-8cec-4c15-94bc-7a770c94c285",
   "metadata": {},
   "outputs": [],
   "source": [
    "cities_df = df[['city_ascii', 'lat', 'lng', 'admin_name','capital', 'population','country']]\n",
    "new = pd.merge(cities_df, weather_df, on = ['lat', 'lng'], how = 'inner')"
   ]
  },
  {
   "cell_type": "raw",
   "id": "dac671ce-2e46-48dc-943a-6109423aa8cb",
   "metadata": {},
   "source": [
    "transforming"
   ]
  },
  {
   "cell_type": "code",
   "execution_count": 8,
   "id": "3860d87f-4e51-441a-828b-9b8071d3be56",
   "metadata": {},
   "outputs": [],
   "source": [
    "new.rename(columns = {'city_ascii' : 'city'}, inplace= True)\n",
    "new['admin_name'].fillna('Unknown', inplace = True)\n",
    "new['capital'].fillna('Unknown', inplace = True)"
   ]
  },
  {
   "cell_type": "code",
   "execution_count": 22,
   "id": "ed01e823-319f-452b-ac37-5ee9a59df37e",
   "metadata": {},
   "outputs": [],
   "source": [
    "new['current_time'] = pd.to_datetime(new['current_time'], unit = 's')\n",
    "new['sunrise'] = pd.to_datetime(new['sunrise'], unit = 's')\n",
    "new['sunset'] = pd.to_datetime(new['sunset'], unit = 's')\n",
    "new['day_length'] = np.ceil((new['sunset'] - new['sunrise']).dt.total_seconds() /3600)\n",
    "new['Hot-cities'] = np.where(new['temperature'] > 30 , 'Y', 'N')"
   ]
  },
  {
   "cell_type": "code",
   "execution_count": 68,
   "id": "3aed9227-9755-4c51-a74f-8dda7bbcb903",
   "metadata": {},
   "outputs": [],
   "source": [
    "country_stats = new.groupby('country').agg({\n",
    "    'temperature': 'mean',\n",
    "    'population': 'sum',\n",
    "    'humidity': 'mean'\n",
    "}).reset_index()\n",
    "country_stats['Country_AVG_popul_temp_humi'] = (country_stats['population'].astype(int).astype(str)) + ',' +round(country_stats['temperature'],2).astype(str) +','+ round(country_stats['humidity'],2).astype(str)"
   ]
  },
  {
   "cell_type": "code",
   "execution_count": 82,
   "id": "586b95ff-d49e-4768-bb0a-0e0ae60b8ab9",
   "metadata": {},
   "outputs": [],
   "source": [
    "country_stats = country_stats[['country','Country_AVG_popul_temp_humi']]\n",
    "final = pd.merge(new,country_stats, on='country', how = 'inner')"
   ]
  },
  {
   "cell_type": "markdown",
   "id": "cfe38e14-78c5-49d5-b124-f02736f00090",
   "metadata": {},
   "source": [
    "load"
   ]
  },
  {
   "cell_type": "code",
   "execution_count": 91,
   "id": "37b70603-40d0-4fb5-a626-5940338a54c3",
   "metadata": {},
   "outputs": [],
   "source": [
    "os.environ['AWS_ACCESS_KEY_ID'] = 'Your AWS_ACCESS_KEY_ID'\n",
    "os.environ['AWS_SECRET_ACCESS_KEY'] = 'Your AWS_SECRET_ACCESS_KEY'\n",
    "csv_buffer = StringIO()\n",
    "final.to_csv(csv_buffer, index= False)\n",
    "s3 = boto3.client('s3', region_name= 'us-east-1')\n",
    "bucket_name = 'Your bucket name'\n",
    "file_name = 'weather_report.csv'\n",
    "s3.put_object(Bucket=bucket_name, Key=file_name, Body=csv_buffer.getvalue())"
   ]
  },
  {
   "cell_type": "code",
   "execution_count": 92,
   "id": "511c7a48-1f60-48aa-819c-bf36d24025cc",
   "metadata": {},
   "outputs": [],
   "source": []
  }
 ],
 "metadata": {
  "kernelspec": {
   "display_name": "Python 3 (ipykernel)",
   "language": "python",
   "name": "python3"
  },
  "language_info": {
   "codemirror_mode": {
    "name": "ipython",
    "version": 3
   },
   "file_extension": ".py",
   "mimetype": "text/x-python",
   "name": "python",
   "nbconvert_exporter": "python",
   "pygments_lexer": "ipython3",
   "version": "3.11.1"
  }
 },
 "nbformat": 4,
 "nbformat_minor": 5
}
